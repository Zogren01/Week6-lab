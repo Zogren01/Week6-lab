{
 "cells": [
  {
   "cell_type": "code",
   "execution_count": 4,
   "metadata": {},
   "outputs": [
    {
     "name": "stdin",
     "output_type": "stream",
     "text": [
      "Please enter your name. Zach\n",
      "Now, enter an integer. 7\n"
     ]
    },
    {
     "name": "stdout",
     "output_type": "stream",
     "text": [
      "Zach\n",
      "Zach\n",
      "Zach\n",
      "Zach\n",
      "Zach\n",
      "Zach\n",
      "Zach\n"
     ]
    }
   ],
   "source": [
    "#code for week 6 lab\n",
    "name = input(\"Please enter your name.\")\n",
    "num = int(input(\"Now, enter an integer.\"))\n",
    "for a in range(num):\n",
    "    print(name)"
   ]
  }
 ],
 "metadata": {
  "kernelspec": {
   "display_name": "Python 3.7",
   "language": "python",
   "name": "python3"
  },
  "language_info": {
   "codemirror_mode": {
    "name": "ipython",
    "version": 3
   },
   "file_extension": ".py",
   "mimetype": "text/x-python",
   "name": "python",
   "nbconvert_exporter": "python",
   "pygments_lexer": "ipython3",
   "version": "3.7.0"
  }
 },
 "nbformat": 4,
 "nbformat_minor": 2
}
